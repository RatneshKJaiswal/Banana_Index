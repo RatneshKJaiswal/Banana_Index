{
 "cells": [
  {
   "metadata": {
    "ExecuteTime": {
     "end_time": "2024-11-02T16:03:18.708407Z",
     "start_time": "2024-11-02T16:03:18.496408Z"
    }
   },
   "cell_type": "code",
   "source": [
    "import torch\n",
    "from torchvision import transforms, models\n",
    "from PIL import Image\n",
    "\n",
    "# Define the model architecture (same as used during training)\n",
    "model = models.googlenet(weights=None, aux_logits=False)\n",
    "model.fc = torch.nn.Linear(model.fc.in_features, 1)\n",
    "\n",
    "# Load the saved model weights\n",
    "def load_model(file_path='banana_freshness_model.pth'):\n",
    "    model.load_state_dict(torch.load(file_path))\n",
    "    model.eval()  # Set model to evaluation mode\n",
    "    print(f\"Model loaded from {file_path}\")\n",
    "    return model\n",
    "\n",
    "# Load the trained model\n",
    "device = torch.device(\"cuda\" if torch.cuda.is_available() else \"cpu\")\n",
    "model = model.to(device)\n",
    "model = load_model('banana_freshness_model.pth')\n",
    "\n",
    "# Inference function to predict freshness index\n",
    "def predict(model, image):\n",
    "    model.eval()\n",
    "    with torch.no_grad():\n",
    "        if isinstance(image, Image.Image):  # If it's a PIL image, transform it\n",
    "            image = data_transforms(image).unsqueeze(0)  # Apply transforms and add batch dimension\n",
    "        else:\n",
    "            image = image.unsqueeze(0)  # Add batch dimension if it's already a tensor\n",
    "\n",
    "        image = image.to(device)  # Move image to GPU or CPU\n",
    "        output = model(image)\n",
    "        return output.item()\n",
    "\n",
    "# Data transformation for inference\n",
    "data_transforms = transforms.Compose([\n",
    "    transforms.Resize((224, 224)),\n",
    "    transforms.ToTensor(),\n",
    "    transforms.Normalize(mean=[0.485, 0.456, 0.406], std=[0.229, 0.224, 0.225]),\n",
    "])\n",
    "\n",
    "# Load and preprocess the image for prediction\n",
    "image_path = 'data/day6/IMG20240920033429.jpg'\n",
    "image = Image.open(image_path).convert('RGB')\n",
    "image = data_transforms(image)\n",
    "\n",
    "# Predict the freshness index\n",
    "freshness_index = predict(model, image)\n",
    "print(f\"Predicted Freshness Index: {1-freshness_index/7:.2f}\")"
   ],
   "id": "1e25aba2490e8a3c",
   "outputs": [
    {
     "name": "stdout",
     "output_type": "stream",
     "text": [
      "Model loaded from banana_freshness_model.pth\n",
      "Predicted Freshness Index: 0.17\n"
     ]
    },
    {
     "name": "stderr",
     "output_type": "stream",
     "text": [
      "/tmp/ipykernel_53102/3032203031.py:11: FutureWarning: You are using `torch.load` with `weights_only=False` (the current default value), which uses the default pickle module implicitly. It is possible to construct malicious pickle data which will execute arbitrary code during unpickling (See https://github.com/pytorch/pytorch/blob/main/SECURITY.md#untrusted-models for more details). In a future release, the default value for `weights_only` will be flipped to `True`. This limits the functions that could be executed during unpickling. Arbitrary objects will no longer be allowed to be loaded via this mode unless they are explicitly allowlisted by the user via `torch.serialization.add_safe_globals`. We recommend you start setting `weights_only=True` for any use case where you don't have full control of the loaded file. Please open an issue on GitHub for any issues related to this experimental feature.\n",
      "  model.load_state_dict(torch.load(file_path))\n"
     ]
    }
   ],
   "execution_count": 10
  },
  {
   "metadata": {
    "ExecuteTime": {
     "end_time": "2024-10-02T07:22:44.353376Z",
     "start_time": "2024-10-02T07:22:44.351379Z"
    }
   },
   "cell_type": "code",
   "source": "",
   "id": "83709b432fa03351",
   "outputs": [],
   "execution_count": null
  },
  {
   "metadata": {},
   "cell_type": "code",
   "outputs": [],
   "execution_count": null,
   "source": "",
   "id": "a5b94195a5a75bb9"
  }
 ],
 "metadata": {
  "kernelspec": {
   "display_name": "Python 3",
   "language": "python",
   "name": "python3"
  },
  "language_info": {
   "codemirror_mode": {
    "name": "ipython",
    "version": 2
   },
   "file_extension": ".py",
   "mimetype": "text/x-python",
   "name": "python",
   "nbconvert_exporter": "python",
   "pygments_lexer": "ipython2",
   "version": "2.7.6"
  }
 },
 "nbformat": 4,
 "nbformat_minor": 5
}
